{
 "cells": [
  {
   "cell_type": "markdown",
   "metadata": {},
   "source": [
    "### Coverage and log-prob $\\theta^*$ plots"
   ]
  },
  {
   "cell_type": "code",
   "execution_count": 123,
   "metadata": {},
   "outputs": [
    {
     "name": "stdout",
     "output_type": "stream",
     "text": [
      "The autoreload extension is already loaded. To reload it, use:\n",
      "  %reload_ext autoreload\n"
     ]
    }
   ],
   "source": [
    "import pickle\n",
    "import pandas as pd\n",
    "import numpy as np\n",
    "import os\n",
    "import matplotlib.pyplot as plt\n",
    "import seaborn as sns\n",
    "%load_ext autoreload\n",
    "%autoreload 2\n",
    "\n",
    "sns.set_context(\"paper\", font_scale=1.225)\n",
    "sns.set_style(\"whitegrid\", {\"font.family\":\"Times New Roman\", \"font.serif\":\"serif\", \"font.size\": 11})\n",
    "plt.rcParams[\"axes.grid\"] = False\n",
    "\n",
    "colors = [\"#072D41\", \"#ECA918\", \"#60B3C8\", \"#359735\"]\n",
    "\n",
    "from plotnine import (\n",
    "    ggplot, aes, geom_line, scale_colour_manual,\n",
    "    geom_abline, element_blank,\n",
    "    facet_wrap, theme_bw, theme,\n",
    "    coord_fixed, element_text\n",
    "    )\n",
    "\n",
    "results_dir = \"../../results\""
   ]
  },
  {
   "cell_type": "code",
   "execution_count": 124,
   "metadata": {},
   "outputs": [],
   "source": [
    "task_names = [\"Gaussian\", \"SIR\", \"CS\"]\n",
    "pretty_method_names = {\"NPE\": \"NPE\", \"Robust NPE\": \"RNPE\"}\n",
    "\n",
    "results = {t: [] for t in task_names}\n",
    "\n",
    "for task in task_names:\n",
    "    task_dir = f\"{results_dir}/{task}/\"\n",
    "    for f_name in sorted(os.listdir(task_dir)):\n",
    "        if \"_0.25.pickle\" in f_name:\n",
    "            with open(task_dir + f_name, \"rb\") as f:\n",
    "                res = pickle.load(f)\n",
    "                results[task].append(res[\"metrics\"])\n",
    "\n",
    "# Only use 1000\n",
    "results = {k: [v[i] for i in range(1000)] for k,v in results.items()}\n"
   ]
  },
  {
   "cell_type": "code",
   "execution_count": 125,
   "metadata": {},
   "outputs": [],
   "source": [
    "df_list = []\n",
    "residual_list = []\n",
    "\n",
    "for task in task_names:\n",
    "    for method in pretty_method_names.keys():\n",
    "        method_n = pretty_method_names[method]\n",
    "        task_em_res = [res[method] for res in results[task]]\n",
    "        metrics = {k: [res[k] for res in task_em_res] for k in [\"log_prob_theta*\", \"hpd\"]}\n",
    "        metrics[\"Task\"] = task\n",
    "        metrics[\"Method\"] = method_n\n",
    "        df_list.append(pd.DataFrame(metrics))\n",
    "\n",
    "        residual_list.append(\n",
    "            {\"Method\": method_n, \"Task\": task,\n",
    "            \"residuals\": np.row_stack([r[\"point_estimate_residuals\"] for r in task_em_res])\n",
    "            })\n",
    "\n",
    "df = pd.concat(df_list)\n",
    "df[\"Method\"] = pd.Categorical(df[\"Method\"], categories=[\"RNPE\", \"NPE\"])\n",
    "df = df.reset_index(drop=True)\n"
   ]
  },
  {
   "cell_type": "code",
   "execution_count": 126,
   "metadata": {},
   "outputs": [
    {
     "data": {
      "image/png": "[encoded data removed]",
      "text/plain": [
       "<Figure size 158.4x108.72 with 1 Axes>"
      ]
     },
     "metadata": {},
     "output_type": "display_data"
    }
   ],
   "source": [
    "palette = {\"RNPE\": colors[1], \"NPE\": colors[2]}\n",
    "\n",
    "fig = plt.figure()\n",
    "fig.set_size_inches(5.5*(2/5), 1.51, forward=True)\n",
    "\n",
    "p = sns.boxplot(\n",
    "    x = \"Task\",\n",
    "    y = \"log_prob_theta*\",\n",
    "    hue = \"Method\",\n",
    "    showfliers=False,\n",
    "    width=0.5,\n",
    "    data=df,\n",
    "    palette=palette,\n",
    "    saturation=0.9,\n",
    "    linewidth=0.75)\n",
    "\n",
    "plt.ylabel(r\"Log-Probability $\\theta^*$\")\n",
    "handles, labels = p.get_legend_handles_labels() # Remove legend title\n",
    "p.legend(\n",
    "    handles=handles,\n",
    "    labels=labels,\n",
    "    borderpad=0.2,\n",
    "    bbox_to_anchor=(.43, .43),\n",
    "    handletextpad=-0.75\n",
    "    )\n",
    "\n",
    "for lh in p.legend_.legendHandles:\n",
    "    lh.set_width(7)\n",
    "    lh.set_height(7)\n",
    "\n",
    "plt.savefig(f\"{results_dir}/plots/log_prob_theta_true.pdf\", bbox_inches=\"tight\", dpi=300)"
   ]
  },
  {
   "cell_type": "markdown",
   "metadata": {},
   "source": [
    "## Coverage plot"
   ]
  },
  {
   "cell_type": "code",
   "execution_count": 127,
   "metadata": {},
   "outputs": [],
   "source": [
    "import numpy as np\n",
    "\n",
    "confidence_level = np.linspace(0, 1, 1001)\n",
    "\n",
    "cov_df_list = []\n",
    "for task in task_names:\n",
    "    for method in pretty_method_names.values():\n",
    "        coverage = []\n",
    "        for level in confidence_level:\n",
    "            hpd_subset = df[\"hpd\"][(df[\"Task\"] == task) & (df[\"Method\"] == method)]\n",
    "            coverage.append(sum(hpd_subset/100 <= level)/len(hpd_subset))\n",
    "        \n",
    "        cov_df_list.append(\n",
    "            pd.DataFrame({\n",
    "                \"Confidence Level\": confidence_level,\n",
    "                \"Empirical Coverage\": coverage,\n",
    "                \"Task\": task,\n",
    "                \"Method\": method\n",
    "            })\n",
    "        )\n",
    "cov_df = pd.concat(cov_df_list)\n",
    "cov_df = cov_df.reset_index(drop=True)\n",
    "cov_df = cov_df.drop_duplicates(subset=[\"Empirical Coverage\", \"Task\", \"Method\"])\n",
    "cov_df[\"Method\"] = pd.Categorical(cov_df[\"Method\"], categories=[\"RNPE\", \"NPE\"])\n",
    "cov_df[\"Task\"] = pd.Categorical(cov_df[\"Task\"], categories=task_names)\n"
   ]
  },
  {
   "cell_type": "code",
   "execution_count": 128,
   "metadata": {},
   "outputs": [
    {
     "name": "stderr",
     "output_type": "stream",
     "text": [
      "/home/dw16200/miniconda3/envs/rnpe_env/lib/python3.9/site-packages/plotnine/ggplot.py:719: PlotnineWarning: Saving 3.3 x 2 in image.\n",
      "/home/dw16200/miniconda3/envs/rnpe_env/lib/python3.9/site-packages/plotnine/ggplot.py:722: PlotnineWarning: Filename: ../../results/plots/coverage.pdf\n",
      "/home/dw16200/miniconda3/envs/rnpe_env/lib/python3.9/site-packages/plotnine/facets/facet.py:487: FutureWarning: Passing a set as an indexer is deprecated and will raise in a future version. Use a list instead.\n",
      "/home/dw16200/miniconda3/envs/rnpe_env/lib/python3.9/site-packages/plotnine/utils.py:371: FutureWarning: The frame.append method is deprecated and will be removed from pandas in a future version. Use pandas.concat instead.\n",
      "/home/dw16200/miniconda3/envs/rnpe_env/lib/python3.9/site-packages/plotnine/utils.py:371: FutureWarning: The frame.append method is deprecated and will be removed from pandas in a future version. Use pandas.concat instead.\n",
      "/home/dw16200/miniconda3/envs/rnpe_env/lib/python3.9/site-packages/plotnine/facets/facet.py:487: FutureWarning: Passing a set as an indexer is deprecated and will raise in a future version. Use a list instead.\n",
      "/home/dw16200/miniconda3/envs/rnpe_env/lib/python3.9/site-packages/plotnine/utils.py:371: FutureWarning: The frame.append method is deprecated and will be removed from pandas in a future version. Use pandas.concat instead.\n",
      "/home/dw16200/miniconda3/envs/rnpe_env/lib/python3.9/site-packages/plotnine/utils.py:371: FutureWarning: The frame.append method is deprecated and will be removed from pandas in a future version. Use pandas.concat instead.\n"
     ]
    },
    {
     "data": {
      "image/png": "[encoded data removed]",
      "text/plain": [
       "<Figure size 330x104.654 with 3 Axes>"
      ]
     },
     "metadata": {},
     "output_type": "display_data"
    },
    {
     "data": {
      "text/plain": [
       "<ggplot: (8779097771063)>"
      ]
     },
     "execution_count": 128,
     "metadata": {},
     "output_type": "execute_result"
    }
   ],
   "source": [
    "from plotnine import scale_x_continuous, scale_y_continuous, element_blank\n",
    "font_kwargs = {\"family\": \"Times New Roman\", \"size\": 9}\n",
    "txt = element_text(**font_kwargs)\n",
    "line_size = 0.8\n",
    "cov_p = (\n",
    "    ggplot(aes(x=\"Confidence Level\", y=\"Empirical Coverage\", colour=\"Method\"), data=cov_df) +\n",
    "    facet_wrap(\"~Task\", nrow=1) +\n",
    "    geom_abline(slope=1, intercept=0, size=line_size, linetype=\"dashed\", color=\"grey\") +\n",
    "    geom_line(size=line_size) +\n",
    "    scale_colour_manual(values=palette, guide=False) +\n",
    "    theme_bw() +\n",
    "    coord_fixed() +\n",
    "    scale_x_continuous(breaks=[0, 0.5, 1]) +\n",
    "    scale_y_continuous(breaks=[0, 0.5, 1]) +\n",
    "    theme(\n",
    "        strip_text_x = element_text(\n",
    "            margin={\"t\": 7, \"b\": 5}),\n",
    "        text=txt, title=txt, axis_title=txt, strip_text=txt,\n",
    "        figure_size=(5.5*(3/5), 2),\n",
    "        panel_grid_minor=element_blank(),\n",
    "        panel_grid_major=element_blank()\n",
    "    )\n",
    ")\n",
    "cov_p.save(f\"{results_dir}/plots/coverage.pdf\", dpi=600)\n",
    "cov_p\n"
   ]
  },
  {
   "cell_type": "markdown",
   "metadata": {},
   "source": [
    "### Calculate residual"
   ]
  },
  {
   "cell_type": "code",
   "execution_count": 144,
   "metadata": {},
   "outputs": [],
   "source": [
    "from rnpe.tasks import Gaussian, SIR, CS\n",
    "residual_df_list = []\n",
    "for r in residual_list:\n",
    "    task_name = r[\"Task\"]\n",
    "    task = {\"Gaussian\": Gaussian(), \"SIR\": SIR(), \"CS\": CS()}[task_name]\n",
    "    names = np.array(task.theta_names())\n",
    "    n = r[\"residuals\"].shape[0]\n",
    "    r[\"Residuals\"] = r[\"residuals\"].flatten(\"F\")\n",
    "    r[\"Parameter\"] = names.repeat(n)\n",
    "\n",
    "    residual_df_list.append(pd.DataFrame(\n",
    "        {k: r[k] for k in [\"Residuals\", \"Parameter\", \"Task\", \"Method\"]}\n",
    "    ))\n",
    "residual_df = pd.concat(residual_df_list)"
   ]
  },
  {
   "cell_type": "code",
   "execution_count": 214,
   "metadata": {},
   "outputs": [],
   "source": [
    "residual_df[\"RSE\"] = residual_df[\"Residuals\"]**2"
   ]
  },
  {
   "cell_type": "code",
   "execution_count": 5,
   "metadata": {},
   "outputs": [],
   "source": [
    "residual = residual_df.groupby([\"Task\", \"Method\", \"Parameter\"])[\"Squared Residuals\"].mean()\n",
    "# residual = residual.reset_index()\n",
    "# residual = residual.pivot(columns=[\"Method\"], index=[\"Task\", \"Parameter\"])\n",
    "residual.to_csv(f\"{results_dir}/residual.csv\", float_format=\"%.2f\")\n",
    "residual"
   ]
  },
  {
   "cell_type": "code",
   "execution_count": null,
   "metadata": {},
   "outputs": [],
   "source": []
  }
 ],
 "metadata": {
  "interpreter": {
   "hash": "1b7253f58e539dc0386868450d7d7bda78e5b358dd5c67ea2cd37d3445e97e8a"
  },
  "kernelspec": {
   "display_name": "Python 3.9.12 ('rnpe_env')",
   "language": "python",
   "name": "python3"
  },
  "language_info": {
   "codemirror_mode": {
    "name": "ipython",
    "version": 3
   },
   "file_extension": ".py",
   "mimetype": "text/x-python",
   "name": "python",
   "nbconvert_exporter": "python",
   "pygments_lexer": "ipython3",
   "version": "3.9.12"
  },
  "orig_nbformat": 4
 },
 "nbformat": 4,
 "nbformat_minor": 2
}
