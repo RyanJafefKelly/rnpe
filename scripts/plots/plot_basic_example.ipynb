{
    "cells": [
        {
            "cell_type": "markdown",
            "metadata": {},
            "source": [
                "### Gaussian example (used in Figure 1.)"
            ]
        },
        {
            "cell_type": "code",
            "execution_count": 1,
            "metadata": {},
            "outputs": [],
            "source": [
                "import matplotlib.pyplot as plt\n",
                "from rnpe.utils import get_manual_legend\n",
                "import seaborn as sns\n",
                "import pickle\n",
                "\n",
                "sns.set_style(\"whitegrid\")\n",
                "sns.set_context(\"paper\")\n",
                "sns.set_style('whitegrid', {'font.family':'Times New Roman', 'font.serif':'serif', \"font.size\": 11})\n",
                "colors = [\"#072D41\", \"#ECA918\", \"#60B3C8\", \"#359735\"]\n",
                "plt.rcParams['axes.axisbelow'] = True\n",
                "results_dir = \"../../results\"\n",
                "fn = f\"{results_dir}/Gaussian/9_0.25.pickle\"\n",
                "\n",
                "plt.rcParams['axes.grid'] = False\n",
                "\n",
                "with open(fn, \"rb\") as f:\n",
                "    results = pickle.load(f)"
            ]
        },
        {
            "cell_type": "markdown",
            "metadata": {},
            "source": [
                "### Plot denoised scatterplot"
            ]
        },
        {
            "cell_type": "code",
            "execution_count": 2,
            "metadata": {},
            "outputs": [
                {
                    "data": {
                        "image/png": "[encoded data removed]",
                        "text/plain": [
                            "<Figure size 158.4x201.6 with 1 Axes>"
                        ]
                    },
                    "metadata": {},
                    "output_type": "display_data"
                }
            ],
            "source": [
                "n = 10000\n",
                "textwidth = 5.5\n",
                "\n",
                "plt.figure(figsize=(textwidth*0.4, 2.8))\n",
                "\n",
                "plt.scatter(\n",
                "    x=results[\"data\"][\"x\"][:n, 0],\n",
                "    y=results[\"data\"][\"x\"][:n, 1],\n",
                "    color=colors[0],\n",
                "    s=0.5,\n",
                "    )\n",
                "\n",
                "plt.scatter(\n",
                "    x=results[\"mcmc_samples\"][\"x\"][:n, 0],\n",
                "    y=results[\"mcmc_samples\"][\"x\"][:n, 1],\n",
                "    color=colors[1],\n",
                "    s=0.5,\n",
                "    alpha=0.1,\n",
                "    )\n",
                "\n",
                "plt.scatter(\n",
                "    x=results[\"data\"][\"y\"][0],\n",
                "    y=results[\"data\"][\"y\"][1],\n",
                "    color=colors[3],\n",
                "    s=20,\n",
                "    )\n",
                "\n",
                "plt.tick_params(\n",
                "    axis='both',         \n",
                "    which='both',\n",
                "    labelleft=False,\n",
                "    labelbottom=False)\n",
                "\n",
                "x_names = [r\"$x_1$\", r\"$x_2$\"]\n",
                "plt.ylim((-4, 10))\n",
                "plt.rc('axes', axisbelow=True)\n",
                "plt.savefig(f\"{results_dir}/plots/basic_example_denoised.png\", dpi=400)"
            ]
        },
        {
            "cell_type": "code",
            "execution_count": 3,
            "metadata": {},
            "outputs": [
                {
                    "name": "stdout",
                    "output_type": "stream",
                    "text": [
                        "[0.42527 0.94479]\n"
                    ]
                }
            ],
            "source": [
                "print(results[\"mcmc_samples\"][\"misspecified\"].mean(axis=0))"
            ]
        },
        {
            "cell_type": "markdown",
            "metadata": {},
            "source": [
                "### Plot posterior densities"
            ]
        },
        {
            "cell_type": "code",
            "execution_count": 4,
            "metadata": {},
            "outputs": [],
            "source": [
                "import numpy as np\n",
                "\n",
                "obs_mu = results[\"data\"][\"y\"][0]\n",
                "\n",
                "def gaussian_posterior_mu_std(obs_mean, p_var=25, l_var=2, n=100):\n",
                "    mu = ((obs_mean*n)/l_var) * ((1/p_var + n/l_var)**(-1))\n",
                "    std = np.sqrt((1/p_var + n/l_var)**(-1))\n",
                "    return mu, std\n",
                "\n",
                "mu, std = gaussian_posterior_mu_std(obs_mu)\n",
                "true_posterior_samps = np.random.normal(mu, std, (n,))"
            ]
        },
        {
            "cell_type": "code",
            "execution_count": 5,
            "metadata": {},
            "outputs": [
                {
                    "name": "stderr",
                    "output_type": "stream",
                    "text": [
                        "/home/dw16200/miniconda3/envs/rnpe_env/lib/python3.9/site-packages/plotnine/ggplot.py:719: PlotnineWarning: Saving 2.2 x 1.5 in image.\n",
                        "/home/dw16200/miniconda3/envs/rnpe_env/lib/python3.9/site-packages/plotnine/ggplot.py:722: PlotnineWarning: Filename: ../../results/plots/basic_example_posterior.png\n",
                        "/home/dw16200/miniconda3/envs/rnpe_env/lib/python3.9/site-packages/plotnine/layer.py:324: PlotnineWarning: stat_density : Removed 2677 rows containing non-finite values.\n",
                        "/home/dw16200/miniconda3/envs/rnpe_env/lib/python3.9/site-packages/plotnine/layer.py:324: PlotnineWarning: stat_density : Removed 2677 rows containing non-finite values.\n"
                    ]
                },
                {
                    "data": {
                        "image/png": "[encoded data removed]",
                        "text/plain": [
                            "<Figure size 220x150 with 1 Axes>"
                        ]
                    },
                    "metadata": {},
                    "output_type": "display_data"
                },
                {
                    "data": {
                        "text/plain": [
                            "<ggplot: (8781339538128)>"
                        ]
                    },
                    "execution_count": 5,
                    "metadata": {},
                    "output_type": "execute_result"
                }
            ],
            "source": [
                "import pandas as pd\n",
                "posterior_df = pd.concat(\n",
                "    [pd.DataFrame(\n",
                "        {\"Source\": \"True\",\n",
                "        \"theta\": true_posterior_samps\n",
                "        }),\n",
                "        pd.DataFrame({\n",
                "        \"Source\": \"RNPE\",\n",
                "        \"theta\": results[\"posterior_samples\"][\"Robust NPE\"][:n, 0]\n",
                "        }),\n",
                "    pd.DataFrame(\n",
                "        {\"Source\": \"NPE\",\n",
                "        \"theta\": results[\"posterior_samples\"][\"NPE\"][:n, 0]\n",
                "        })\n",
                "    ]\n",
                ")\n",
                "\n",
                "posterior_df[\"Source\"] = pd.Categorical(posterior_df[\"Source\"], [\"True\", \"NPE\", \"RNPE\"])\n",
                "\n",
                "from plotnine import ggplot, aes, geom_density, xlim, theme_bw, scale_color_manual, scale_fill_manual, xlab, theme, element_blank, element_text, ylab\n",
                "font_kwargs = {\"family\": \"Times New Roman\", \"size\": 11}\n",
                "txt = element_text(**font_kwargs)\n",
                "\n",
                "p = (ggplot(posterior_df, aes(x=\"theta\", color=\"Source\", fill=\"Source\")) +\n",
                "geom_density(alpha=0.05, size=0.8, bw=0.01) +\n",
                "scale_color_manual(values=[colors[3], colors[2], colors[1]]) +\n",
                "scale_fill_manual(values=[colors[3], colors[2], colors[1]]) +\n",
                "theme_bw() +\n",
                "xlab(r\"$\\theta$\") +\n",
                "xlim((-0.05, 0.24)) +\n",
                "ylab(\"\") +\n",
                "theme(\n",
                "    legend_title=element_blank(),\n",
                "    text=txt,\n",
                "    figure_size=(textwidth*0.4, 1.5),\n",
                "    panel_grid_minor=element_blank(),\n",
                "    panel_grid_major=element_blank(),\n",
                "    axis_text=element_blank(),\n",
                "    axis_ticks=element_blank()\n",
                ")\n",
                ")\n",
                "p.save(f\"{results_dir}/plots/basic_example_posterior.png\", dpi=400)\n",
                "p"
            ]
        },
        {
            "cell_type": "code",
            "execution_count": null,
            "metadata": {},
            "outputs": [],
            "source": []
        }
    ],
    "metadata": {
        "interpreter": {
            "hash": "1b7253f58e539dc0386868450d7d7bda78e5b358dd5c67ea2cd37d3445e97e8a"
        },
        "kernelspec": {
            "display_name": "Python 3.9.12 ('rnpe_env')",
            "language": "python",
            "name": "python3"
        },
        "language_info": {
            "codemirror_mode": {
                "name": "ipython",
                "version": 3
            },
            "file_extension": ".py",
            "mimetype": "text/x-python",
            "name": "python",
            "nbconvert_exporter": "python",
            "pygments_lexer": "ipython3",
            "version": "3.9.12"
        },
        "orig_nbformat": 4
    },
    "nbformat": 4,
    "nbformat_minor": 2
}
