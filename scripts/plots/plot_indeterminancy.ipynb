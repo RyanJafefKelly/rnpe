{
 "cells": [
  {
   "cell_type": "markdown",
   "metadata": {},
   "source": [
    "## Example of \"indeterminancy\"\n",
    "In some cases, a sparsity inducing prior may lead to \"indeterminancy\", in the sense that we cannot determine which summary statistic is misspecified. Below is an example."
   ]
  },
  {
   "cell_type": "code",
   "execution_count": 132,
   "metadata": {},
   "outputs": [],
   "source": [
    "from jax import random\n",
    "import jax.numpy as jnp\n",
    "import matplotlib.pyplot as plt\n",
    "from rnpe.utils import get_manual_legend\n",
    "from flowjax.flows import block_neural_autoregressive_flow\n",
    "from flowjax.train_utils import train_flow\n",
    "from flowjax.distributions import Normal\n",
    "from numpyro.infer import MCMC, MixedHMC, HMC, init_to_value\n",
    "from rnpe.denoise import spike_and_slab_denoiser\n",
    "import seaborn as sn\n",
    "import pandas as pd\n",
    "import matplotlib.pyplot as plt\n",
    "\n",
    "def correlated_2d_gaussian_samples(key, n=10000, cor=0.8):\n",
    "    x = random.normal(key, (n, 2))\n",
    "    cov = jnp.array([[1, cor], [cor, 1]])\n",
    "    return x @ jnp.linalg.cholesky(cov).T\n",
    "\n",
    "key = random.PRNGKey(0)\n",
    "key, x_key = random.split(key)\n",
    "x = correlated_2d_gaussian_samples(x_key, cor=-0.9)\n",
    "y = jnp.array([1.5, 1.5])\n"
   ]
  },
  {
   "cell_type": "code",
   "execution_count": 60,
   "metadata": {},
   "outputs": [
    {
     "name": "stderr",
     "output_type": "stream",
     "text": [
      "  0%|          | 0/50 [00:00<?, ?it/s]/home/dw16200/miniconda3/envs/rnpe_env/lib/python3.9/site-packages/jax/_src/tree_util.py:185: FutureWarning: jax.tree_util.tree_multimap() is deprecated. Please use jax.tree_util.tree_map() instead as a drop-in replacement.\n",
      "  warnings.warn('jax.tree_util.tree_multimap() is deprecated. Please use jax.tree_util.tree_map() '\n",
      " 62%|██████▏   | 31/50 [00:07<00:04,  3.89it/s, train=2.04, val=2]   \n"
     ]
    },
    {
     "name": "stdout",
     "output_type": "stream",
     "text": [
      "Max patience reached.\n"
     ]
    }
   ],
   "source": [
    "\n",
    "\n",
    "key, flow_key, train_key = random.split(key, 3)\n",
    "base_dist = Normal(2)\n",
    "x_flow = block_neural_autoregressive_flow(flow_key, base_dist)\n",
    "\n",
    "x_flow, x_losses = train_flow(\n",
    "    train_key,\n",
    "    x_flow,\n",
    "    x,\n",
    "    learning_rate=0.01,\n",
    "    max_epochs=50,\n",
    ")\n",
    "\n",
    "\n",
    "# Denoise observation with MCMC\n",
    "init = init_to_value(\n",
    "    values={\"x\": x[0], \"misspecified\": jnp.ones(len(y), int)}\n",
    ")\n",
    "\n",
    "kernel = MixedHMC(\n",
    "    HMC(spike_and_slab_denoiser, trajectory_length=1, init_strategy=init, target_accept_prob=0.95,)\n",
    ")\n",
    "\n",
    "mcmc = MCMC(\n",
    "    kernel,\n",
    "    num_warmup=20000,\n",
    "    num_samples=50000,\n",
    "    progress_bar=False\n",
    ")\n",
    "\n",
    "key, mcmc_key = random.split(key)\n",
    "model_kwargs = {\"y_obs\": y, \"flow\": x_flow}\n",
    "\n",
    "mcmc.run(mcmc_key, **model_kwargs, )"
   ]
  },
  {
   "cell_type": "code",
   "execution_count": 133,
   "metadata": {},
   "outputs": [],
   "source": [
    "samples = mcmc.get_samples()\n",
    "thin = 10\n",
    "colors = [\"#072D41\", \"#ECA918\", \"#359735\"]"
   ]
  },
  {
   "cell_type": "code",
   "execution_count": 134,
   "metadata": {},
   "outputs": [],
   "source": [
    "results = {}\n",
    "results_array = jnp.zeros((2,2))\n",
    "for idx1 in [0,1]:\n",
    "    for idx2 in [0, 1]:\n",
    "        res = ((samples[\"misspecified\"][:, 0] == idx1) & (samples[\"misspecified\"][:, 1] == idx2)).mean().item()\n",
    "        results_array = results_array.at[idx2, idx1].set(res)"
   ]
  },
  {
   "cell_type": "code",
   "execution_count": 135,
   "metadata": {},
   "outputs": [],
   "source": [
    "import seaborn as sns\n",
    "sns.set_context(\"paper\")\n",
    "sns.set_style('whitegrid', {'font.family':'Times New Roman', 'font.serif':'serif', \"font.size\": 11})\n",
    "plt.rcParams['axes.grid'] = False\n",
    "plt.rcParams['axes.axisbelow'] = True"
   ]
  },
  {
   "cell_type": "code",
   "execution_count": 145,
   "metadata": {},
   "outputs": [
    {
     "data": {
      "image/png": "[encoded data removed]",
      "text/plain": [
       "<Figure size 374.4x201.6 with 2 Axes>"
      ]
     },
     "metadata": {},
     "output_type": "display_data"
    }
   ],
   "source": [
    "fig, axes = plt.subplots(1, 2)\n",
    "fig.set_size_inches(5.2, 2.8)\n",
    "\n",
    "ax = axes[0]\n",
    "ax.scatter(x[:, 0], x[:, 1], s=0.1, color=colors[0], rasterized=True)\n",
    "ax.scatter(samples[\"x\"][::thin, 0], samples[\"x\"][::thin, 1], s=0.1, color=colors[1], rasterized=True)\n",
    "ax.scatter(y[0], y[1], color=colors[2], rasterized=True)\n",
    "\n",
    "labels = [\"Simulations\", \"Denoised\", \"Observed\"]\n",
    "handles = get_manual_legend(labels, colors)\n",
    "ax.legend(handles=handles, loc=\"lower left\", )\n",
    "ax.tick_params(axis=u'both', which=u'both',length=0)\n",
    "ax.axes.xaxis.set_ticklabels([])\n",
    "ax.axes.yaxis.set_ticklabels([])\n",
    "ax.set_xlabel(r\"$x_1$\")\n",
    "ax.set_ylabel(r\"$x_2$\")\n",
    "ax = axes[1]\n",
    "\n",
    "df_cm = pd.DataFrame(results_array, [\"Well-Specified\", \"Misspecified\"], [\"Well-Specified\", \"Misspecified\"])\n",
    "sns.heatmap(df_cm, annot=True, annot_kws={\"size\": 13}, cmap=\"YlGnBu\", cbar=False, ax=ax) # font size\n",
    "ax.set_xlabel(r\"$x_1$\")\n",
    "ax.set_ylabel(r\"$x_2$\")\n",
    "\n",
    "import matplotlib.transforms as mtransforms\n",
    "for label, ax in zip([\"(a)\", \"(b)\"], axes):\n",
    "    trans = mtransforms.ScaledTranslation(-20/72, 7/72, fig.dpi_scale_trans)\n",
    "    ax.text(0.0, 1.0, label, transform=ax.transAxes + trans, fontsize='medium', va='bottom')\n",
    "fig.tight_layout()\n",
    "\n",
    "plt.savefig(\"../../results/plots/indeterminancy_example.pdf\", dpi=400)\n",
    "plt.show()\n"
   ]
  },
  {
   "cell_type": "code",
   "execution_count": null,
   "metadata": {},
   "outputs": [],
   "source": []
  }
 ],
 "metadata": {
  "kernelspec": {
   "display_name": "Python 3.9.12 ('rnpe_env')",
   "language": "python",
   "name": "python3"
  },
  "language_info": {
   "codemirror_mode": {
    "name": "ipython",
    "version": 3
   },
   "file_extension": ".py",
   "mimetype": "text/x-python",
   "name": "python",
   "nbconvert_exporter": "python",
   "pygments_lexer": "ipython3",
   "version": "3.9.12"
  },
  "orig_nbformat": 4,
  "vscode": {
   "interpreter": {
    "hash": "1b7253f58e539dc0386868450d7d7bda78e5b358dd5c67ea2cd37d3445e97e8a"
   }
  }
 },
 "nbformat": 4,
 "nbformat_minor": 2
}
