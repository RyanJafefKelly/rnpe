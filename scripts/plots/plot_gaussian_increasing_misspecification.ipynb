{
 "cells": [
  {
   "cell_type": "code",
   "execution_count": 2,
   "metadata": {},
   "outputs": [],
   "source": [
    "from flowjax.flows import block_neural_autoregressive_flow, coupling_flow\n",
    "from flowjax.bijections.transformers import RationalQuadraticSplineTransformer\n",
    "from flowjax.distributions import Normal\n",
    "from flowjax.train_utils import train_flow\n",
    "import jax.numpy as jnp\n",
    "from jax import random\n",
    "from numpyro.infer import MCMC, HMC, MixedHMC, init_to_value\n",
    "from rnpe.denoise import spike_and_slab_denoiser\n",
    "from rnpe.tasks import SIR, Gaussian, CS\n",
    "import matplotlib.pyplot as plt\n"
   ]
  },
  {
   "cell_type": "code",
   "execution_count": 3,
   "metadata": {},
   "outputs": [],
   "source": [
    "# Plot behaviour of NPE and RNPE with increasing misspecification"
   ]
  },
  {
   "cell_type": "code",
   "execution_count": 4,
   "metadata": {},
   "outputs": [
    {
     "name": "stderr",
     "output_type": "stream",
     "text": [
      "  0%|          | 0/50 [00:00<?, ?it/s]/home/dw16200/miniconda3/envs/rnpe_env/lib/python3.9/site-packages/jax/_src/tree_util.py:185: FutureWarning: jax.tree_util.tree_multimap() is deprecated. Please use jax.tree_util.tree_map() instead as a drop-in replacement.\n",
      "  warnings.warn('jax.tree_util.tree_multimap() is deprecated. Please use jax.tree_util.tree_map() '\n",
      " 38%|███▊      | 19/50 [00:44<01:12,  2.33s/it, train=2.84, val=2.85]"
     ]
    },
    {
     "name": "stdout",
     "output_type": "stream",
     "text": [
      "Max patience reached.\n"
     ]
    },
    {
     "name": "stderr",
     "output_type": "stream",
     "text": [
      "\n",
      " 24%|██▍       | 12/50 [03:29<11:02, 17.44s/it, train=-2.39, val=-2.35]"
     ]
    },
    {
     "name": "stdout",
     "output_type": "stream",
     "text": [
      "Max patience reached.\n"
     ]
    },
    {
     "name": "stderr",
     "output_type": "stream",
     "text": [
      "\n"
     ]
    }
   ],
   "source": [
    "seed = 0\n",
    "task = Gaussian()\n",
    "key, subkey = random.split(random.PRNGKey(seed))\n",
    "data = task.generate_dataset(subkey, 50000)\n",
    "\n",
    "key, flow_key, train_key = random.split(key, 3)\n",
    "base_dist = Normal(data[\"x\"].shape[1])\n",
    "x_flow = block_neural_autoregressive_flow(flow_key, base_dist)\n",
    "x_flow, x_losses = train_flow(\n",
    "        train_key,\n",
    "        x_flow,\n",
    "        data[\"x\"],\n",
    "        learning_rate=0.01,\n",
    "        max_epochs=50,\n",
    "    )\n",
    "\n",
    "# Carry out posterior inference\n",
    "key, flow_key, train_key = random.split(key, 3)\n",
    "base_dist = Normal(data[\"theta\"].shape[1])\n",
    "transformer = RationalQuadraticSplineTransformer(K=10, B=5)\n",
    "posterior_flow = coupling_flow(flow_key, base_dist, transformer, cond_dim=data[\"x\"].shape[1],)\n",
    "\n",
    "posterior_flow, npe_losses = train_flow(\n",
    "    train_key,\n",
    "    posterior_flow,\n",
    "    data[\"theta\"],\n",
    "    data[\"x\"],\n",
    "    max_epochs=50,\n",
    "    learning_rate=0.0005,\n",
    ")"
   ]
  },
  {
   "cell_type": "code",
   "execution_count": 5,
   "metadata": {},
   "outputs": [
    {
     "name": "stderr",
     "output_type": "stream",
     "text": [
      "  0%|          | 0/120000 [00:00<?, ?it/s]/home/dw16200/miniconda3/envs/rnpe_env/lib/python3.9/site-packages/jax/_src/tree_util.py:185: FutureWarning: jax.tree_util.tree_multimap() is deprecated. Please use jax.tree_util.tree_map() instead as a drop-in replacement.\n",
      "  warnings.warn('jax.tree_util.tree_multimap() is deprecated. Please use jax.tree_util.tree_map() '\n",
      "sample: 100%|██████████| 120000/120000 [03:30<00:00, 569.34it/s, 48 steps of size 2.15e-02. acc. prob=0.98]\n",
      "  0%|          | 0/120000 [00:00<?, ?it/s]/home/dw16200/miniconda3/envs/rnpe_env/lib/python3.9/site-packages/jax/_src/tree_util.py:185: FutureWarning: jax.tree_util.tree_multimap() is deprecated. Please use jax.tree_util.tree_map() instead as a drop-in replacement.\n",
      "  warnings.warn('jax.tree_util.tree_multimap() is deprecated. Please use jax.tree_util.tree_map() '\n",
      "sample: 100%|██████████| 120000/120000 [04:01<00:00, 497.21it/s, 27 steps of size 3.75e-02. acc. prob=0.59]\n",
      "  0%|          | 0/120000 [00:00<?, ?it/s]/home/dw16200/miniconda3/envs/rnpe_env/lib/python3.9/site-packages/jax/_src/tree_util.py:185: FutureWarning: jax.tree_util.tree_multimap() is deprecated. Please use jax.tree_util.tree_map() instead as a drop-in replacement.\n",
      "  warnings.warn('jax.tree_util.tree_multimap() is deprecated. Please use jax.tree_util.tree_map() '\n",
      "sample: 100%|██████████| 120000/120000 [04:31<00:00, 441.75it/s, 63 steps of size 1.62e-02. acc. prob=0.99]\n",
      "  0%|          | 0/120000 [00:00<?, ?it/s]/home/dw16200/miniconda3/envs/rnpe_env/lib/python3.9/site-packages/jax/_src/tree_util.py:185: FutureWarning: jax.tree_util.tree_multimap() is deprecated. Please use jax.tree_util.tree_map() instead as a drop-in replacement.\n",
      "  warnings.warn('jax.tree_util.tree_multimap() is deprecated. Please use jax.tree_util.tree_map() '\n",
      "sample: 100%|██████████| 120000/120000 [04:32<00:00, 439.60it/s, 46 steps of size 2.24e-02. acc. prob=1.00]\n"
     ]
    }
   ],
   "source": [
    "\n",
    "# Denoise observation with MCMC\n",
    "init = init_to_value(\n",
    "    values={\"x\": data[\"x\"][0], \"misspecified\": jnp.ones(len(data[\"y\"]), int)}\n",
    ")\n",
    "\n",
    "kernel = MixedHMC(\n",
    "    HMC(spike_and_slab_denoiser, trajectory_length=1, init_strategy=init, target_accept_prob=0.95)\n",
    ")\n",
    "\n",
    "mcmc = MCMC(\n",
    "    kernel,\n",
    "    num_warmup=20000,\n",
    "    num_samples=100000,\n",
    ")\n",
    "\n",
    "dgp_variances = range(1,5)\n",
    "denoised_data = []\n",
    "observations = []\n",
    "\n",
    "key, subkey = random.split(key)\n",
    "for v in dgp_variances:\n",
    "    obs = Gaussian(dgp_var = v).generate_observation(subkey)[1]\n",
    "    obs = (obs - task.scales[\"x_mean\"])/task.scales[\"x_std\"]\n",
    "    key, mcmc_key = random.split(key)\n",
    "    model_kwargs = {\"y_obs\": obs, \"flow\": x_flow}\n",
    "    mcmc.run(mcmc_key, **model_kwargs)\n",
    "\n",
    "    observations.append(obs)\n",
    "    denoised_data.append(mcmc.get_samples()[\"x\"])\n"
   ]
  },
  {
   "cell_type": "code",
   "execution_count": null,
   "metadata": {},
   "outputs": [],
   "source": []
  },
  {
   "cell_type": "code",
   "execution_count": 15,
   "metadata": {},
   "outputs": [],
   "source": [
    "from scipy.stats.distributions import norm\n",
    "from rnpe.metrics import robust_posterior_log_prob\n",
    "\n",
    "thin = 500\n",
    "lims_adjust = [[0, 0], [-0.5, 0], [0,0], [0, 0]]\n",
    "\n",
    "data_4_plot = []\n",
    "for i in range(len(dgp_variances)):\n",
    "    unscaled_obs = observations[i]*task.scales[\"x_std\"] + task.scales[\"x_mean\"]\n",
    "\n",
    "\n",
    "    mu, std = Gaussian(dgp_var=dgp_variances[i]).get_true_posterior_mean_std(obs_mean=unscaled_obs[0])\n",
    "    mu, std = mu.item(), std.item()\n",
    "    # lims = [mu-6*std, mu+6*std]  # For the plot\n",
    "\n",
    "    # Sample from NPE to adjust lims\n",
    "    lims = [mu-4*std + lims_adjust[i][0], mu+4*std + lims_adjust[i][1]]\n",
    "\n",
    "    # Densities are learned on scaled data so will convert to scaled space and back\n",
    "    scaled_lims = [(l - task.scales[\"theta_mean\"].item()) / task.scales[\"theta_std\"].item() for l in lims]\n",
    "    theta_4_plot_scaled = jnp.linspace(*scaled_lims, 200)[:, None]\n",
    "    theta_4_plot_unscaled = theta_4_plot_scaled*task.scales[\"theta_std\"] + task.scales[\"theta_mean\"]\n",
    "\n",
    "    scale_correction = jnp.log(task.scales[\"theta_std\"]).item()  # Control for scaling transformation\n",
    "    naive_log_probs = posterior_flow.log_prob(theta_4_plot_scaled, observations[i]) - scale_correction\n",
    "    robust_log_probs = robust_posterior_log_prob(posterior_flow, theta_4_plot_scaled, denoised_data[i][::thin]) - scale_correction\n",
    "\n",
    "    true_dgp_probs = norm.pdf(theta_4_plot_unscaled, loc=mu, scale=std).squeeze()\n",
    "    label_sufffix = str(dgp_variances[i]) if dgp_variances[i] != 1 else str(dgp_variances[i]) + \" (well specified)\"\n",
    "\n",
    "\n",
    "    # Compute true \"simulator\" posterior\n",
    "    sim_mu, sim_std = Gaussian(dgp_var=1).get_true_posterior_mean_std(obs_mean=unscaled_obs[0])\n",
    "    true_simulator_probs = norm.pdf(theta_4_plot_unscaled, loc=sim_mu, scale=sim_std).squeeze()\n",
    "\n",
    "    data_4_plot.append(\n",
    "        {\n",
    "        r\"$\\theta$\": theta_4_plot_unscaled,\n",
    "        \"NPE\": jnp.exp(naive_log_probs),\n",
    "        \"RNPE\": jnp.exp(robust_log_probs),\n",
    "        \"True\": true_dgp_probs,\n",
    "        \"title\": r\"$\\sigma^2=$\" + label_sufffix\n",
    "        }\n",
    "    )\n"
   ]
  },
  {
   "cell_type": "code",
   "execution_count": 17,
   "metadata": {},
   "outputs": [
    {
     "data": {
      "image/png": "[encoded data removed]",
      "text/plain": [
       "<Figure size 360x432 with 4 Axes>"
      ]
     },
     "metadata": {
      "needs_background": "light"
     },
     "output_type": "display_data"
    }
   ],
   "source": [
    "fig, axes = plt.subplots(nrows=len(dgp_variances))\n",
    "\n",
    "colors = [\"#60B3C8\", \"#ECA918\", \"#359735\"]\n",
    "\n",
    "for data, ax in zip(data_4_plot, axes):\n",
    "    for posterior, c in zip([\"NPE\", \"RNPE\", \"True\"], colors):\n",
    "        ax.plot(data[r\"$\\theta$\"], data[posterior], label=posterior, linewidth=2, color=c)    \n",
    "    ax.set_title(data[\"title\"])\n",
    "ax.legend()\n",
    "fig.set_size_inches(5, 6)\n",
    "plt.tight_layout()\n"
   ]
  },
  {
   "cell_type": "code",
   "execution_count": 19,
   "metadata": {},
   "outputs": [],
   "source": [
    "fig.savefig(\"../../results/plots/gaussian_increasing_misspecification.pdf\")"
   ]
  },
  {
   "cell_type": "code",
   "execution_count": null,
   "metadata": {},
   "outputs": [],
   "source": []
  }
 ],
 "metadata": {
  "kernelspec": {
   "display_name": "Python 3.9.12 ('rnpe_env')",
   "language": "python",
   "name": "python3"
  },
  "language_info": {
   "codemirror_mode": {
    "name": "ipython",
    "version": 3
   },
   "file_extension": ".py",
   "mimetype": "text/x-python",
   "name": "python",
   "nbconvert_exporter": "python",
   "pygments_lexer": "ipython3",
   "version": "3.9.12"
  },
  "orig_nbformat": 4,
  "vscode": {
   "interpreter": {
    "hash": "1b7253f58e539dc0386868450d7d7bda78e5b358dd5c67ea2cd37d3445e97e8a"
   }
  }
 },
 "nbformat": 4,
 "nbformat_minor": 2
}
