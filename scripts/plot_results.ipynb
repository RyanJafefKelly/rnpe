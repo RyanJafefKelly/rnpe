{
 "cells": [
  {
   "cell_type": "code",
   "execution_count": 83,
   "metadata": {},
   "outputs": [],
   "source": [
    "import pickle\n",
    "import seaborn as sns\n",
    "import pandas as pd\n",
    "import os\n",
    "import matplotlib.pyplot as plt"
   ]
  },
  {
   "cell_type": "code",
   "execution_count": 105,
   "metadata": {},
   "outputs": [],
   "source": [
    "results = {t: [] for t in [\"fraziergaussian\", \"sirsde\"]}\n",
    "\n",
    "\n",
    "for task in results.keys():\n",
    "    results_dir = f\"../results/{task}/\"\n",
    "    for f_name in sorted(os.listdir(results_dir)):\n",
    "        if \".pickle\" in f_name:\n",
    "            with open(results_dir + f_name, \"rb\") as f:\n",
    "                results[task].append(pickle.load(f))"
   ]
  },
  {
   "cell_type": "code",
   "execution_count": 122,
   "metadata": {},
   "outputs": [
    {
     "name": "stdout",
     "output_type": "stream",
     "text": [
      "task: fraziergaussian, num_obs: 1000\n",
      "task: sirsde, num_obs: 987\n"
     ]
    },
    {
     "data": {
      "text/html": [
       "<div>\n",
       "<style scoped>\n",
       "    .dataframe tbody tr th:only-of-type {\n",
       "        vertical-align: middle;\n",
       "    }\n",
       "\n",
       "    .dataframe tbody tr th {\n",
       "        vertical-align: top;\n",
       "    }\n",
       "\n",
       "    .dataframe thead th {\n",
       "        text-align: right;\n",
       "    }\n",
       "</style>\n",
       "<table border=\"1\" class=\"dataframe\">\n",
       "  <thead>\n",
       "    <tr style=\"text-align: right;\">\n",
       "      <th></th>\n",
       "      <th>none</th>\n",
       "      <th>spike and slab</th>\n",
       "      <th>task</th>\n",
       "    </tr>\n",
       "  </thead>\n",
       "  <tbody>\n",
       "    <tr>\n",
       "      <th>0</th>\n",
       "      <td>0.980771</td>\n",
       "      <td>2.088605</td>\n",
       "      <td>fraziergaussian</td>\n",
       "    </tr>\n",
       "    <tr>\n",
       "      <th>1</th>\n",
       "      <td>2.369253</td>\n",
       "      <td>0.662023</td>\n",
       "      <td>fraziergaussian</td>\n",
       "    </tr>\n",
       "    <tr>\n",
       "      <th>2</th>\n",
       "      <td>-12.934981</td>\n",
       "      <td>1.555709</td>\n",
       "      <td>fraziergaussian</td>\n",
       "    </tr>\n",
       "    <tr>\n",
       "      <th>3</th>\n",
       "      <td>2.660821</td>\n",
       "      <td>1.830613</td>\n",
       "      <td>fraziergaussian</td>\n",
       "    </tr>\n",
       "    <tr>\n",
       "      <th>4</th>\n",
       "      <td>2.325247</td>\n",
       "      <td>1.630262</td>\n",
       "      <td>fraziergaussian</td>\n",
       "    </tr>\n",
       "  </tbody>\n",
       "</table>\n",
       "</div>"
      ],
      "text/plain": [
       "        none  spike and slab             task\n",
       "0   0.980771        2.088605  fraziergaussian\n",
       "1   2.369253        0.662023  fraziergaussian\n",
       "2 -12.934981        1.555709  fraziergaussian\n",
       "3   2.660821        1.830613  fraziergaussian\n",
       "4   2.325247        1.630262  fraziergaussian"
      ]
     },
     "execution_count": 122,
     "metadata": {},
     "output_type": "execute_result"
    }
   ],
   "source": [
    "subdfs = []\n",
    "for t_name, result in results.items():\n",
    "    print(f\"task: {t_name}, num_obs: {len(result)}\")\n",
    "    subdf = pd.DataFrame({\n",
    "        \"none\": [r[\"no_error_model_log_prob_theta_true\"] for r in result],\n",
    "        \"spike and slab\": [r[\"error_model_log_prob_theta_true\"] for r in result]\n",
    "    })\n",
    "    subdf[\"task\"] = t_name\n",
    "    subdfs.append(subdf)\n",
    "\n",
    "df = pd.concat(subdfs)\n",
    "df.head()"
   ]
  },
  {
   "cell_type": "code",
   "execution_count": 124,
   "metadata": {},
   "outputs": [
    {
     "data": {
      "text/html": [
       "<div>\n",
       "<style scoped>\n",
       "    .dataframe tbody tr th:only-of-type {\n",
       "        vertical-align: middle;\n",
       "    }\n",
       "\n",
       "    .dataframe tbody tr th {\n",
       "        vertical-align: top;\n",
       "    }\n",
       "\n",
       "    .dataframe thead th {\n",
       "        text-align: right;\n",
       "    }\n",
       "</style>\n",
       "<table border=\"1\" class=\"dataframe\">\n",
       "  <thead>\n",
       "    <tr style=\"text-align: right;\">\n",
       "      <th></th>\n",
       "      <th>task</th>\n",
       "      <th>error model</th>\n",
       "      <th>log_prob theta*</th>\n",
       "    </tr>\n",
       "  </thead>\n",
       "  <tbody>\n",
       "    <tr>\n",
       "      <th>0</th>\n",
       "      <td>fraziergaussian</td>\n",
       "      <td>none</td>\n",
       "      <td>0.980771</td>\n",
       "    </tr>\n",
       "    <tr>\n",
       "      <th>1</th>\n",
       "      <td>fraziergaussian</td>\n",
       "      <td>none</td>\n",
       "      <td>2.369253</td>\n",
       "    </tr>\n",
       "    <tr>\n",
       "      <th>2</th>\n",
       "      <td>fraziergaussian</td>\n",
       "      <td>none</td>\n",
       "      <td>-12.934981</td>\n",
       "    </tr>\n",
       "    <tr>\n",
       "      <th>3</th>\n",
       "      <td>fraziergaussian</td>\n",
       "      <td>none</td>\n",
       "      <td>2.660821</td>\n",
       "    </tr>\n",
       "    <tr>\n",
       "      <th>4</th>\n",
       "      <td>fraziergaussian</td>\n",
       "      <td>none</td>\n",
       "      <td>2.325247</td>\n",
       "    </tr>\n",
       "  </tbody>\n",
       "</table>\n",
       "</div>"
      ],
      "text/plain": [
       "              task error model  log_prob theta*\n",
       "0  fraziergaussian        none        0.980771\n",
       "1  fraziergaussian        none        2.369253\n",
       "2  fraziergaussian        none      -12.934981\n",
       "3  fraziergaussian        none        2.660821\n",
       "4  fraziergaussian        none        2.325247"
      ]
     },
     "execution_count": 124,
     "metadata": {},
     "output_type": "execute_result"
    }
   ],
   "source": [
    "df_long = df.melt(value_vars=[\"none\", \"spike and slab\"], id_vars=\"task\", var_name=\"error model\", value_name=\"log_prob theta*\")\n",
    "df_long.head()"
   ]
  },
  {
   "cell_type": "code",
   "execution_count": 127,
   "metadata": {},
   "outputs": [
    {
     "data": {
      "image/png": "[encoded data removed]",
      "text/plain": [
       "<Figure size 432x288 with 1 Axes>"
      ]
     },
     "metadata": {
      "needs_background": "light"
     },
     "output_type": "display_data"
    }
   ],
   "source": [
    "# See nested grouping example in https://seaborn.pydata.org/generated/seaborn.boxplot.html ? if log probs on similar scale\n",
    "sns.boxplot(\n",
    "    x = \"task\",\n",
    "    y = \"log_prob theta*\",\n",
    "    hue = \"error model\",\n",
    "    showfliers=False,\n",
    "    data=df_long)\n",
    "\n",
    "plt.savefig(\"../results/plots/log_probthetatrue.png\")"
   ]
  },
  {
   "cell_type": "code",
   "execution_count": null,
   "metadata": {},
   "outputs": [],
   "source": []
  }
 ],
 "metadata": {
  "interpreter": {
   "hash": "1b7253f58e539dc0386868450d7d7bda78e5b358dd5c67ea2cd37d3445e97e8a"
  },
  "kernelspec": {
   "display_name": "Python 3.9.12 ('rnpe_env')",
   "language": "python",
   "name": "python3"
  },
  "language_info": {
   "codemirror_mode": {
    "name": "ipython",
    "version": 3
   },
   "file_extension": ".py",
   "mimetype": "text/x-python",
   "name": "python",
   "nbconvert_exporter": "python",
   "pygments_lexer": "ipython3",
   "version": "3.9.12"
  },
  "orig_nbformat": 4
 },
 "nbformat": 4,
 "nbformat_minor": 2
}
